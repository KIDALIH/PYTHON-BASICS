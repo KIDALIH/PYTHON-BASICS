{
  "cells": [
    {
      "cell_type": "markdown",
      "metadata": {
        "id": "view-in-github",
        "colab_type": "text"
      },
      "source": [
        "<a href=\"https://colab.research.google.com/github/KIDALIH/PYTHON-BASICS/blob/main/index.ipynb\" target=\"_parent\"><img src=\"https://colab.research.google.com/assets/colab-badge.svg\" alt=\"Open In Colab\"/></a>"
      ]
    },
    {
      "cell_type": "markdown",
      "metadata": {
        "id": "KRP99LRXStC6"
      },
      "source": [
        "# Built-in Python Operators, Functions, and Methods - Lab\n",
        "\n",
        "## Introduction\n",
        "We've looked at some of the built-in methods, functions, and the operators in Python. These are all very powerful tools we can (and will) use in our code. Below, we'll put these new tools to use to solve the tests in this lab.\n",
        "\n",
        "## Objectives\n",
        "\n",
        "In this lab you will:\n",
        "\n",
        "* Use built-in Python functions and methods\n",
        "* Use comparison operators to compare objects\n",
        "* Use logical operators to incorporate multiple conditions\n",
        "* Use identity operators to confirm the identity of an object\n",
        "\n",
        "\n",
        "## Instructions\n",
        "\n",
        "Let's start by using some built-in functions and methods. Employ the appropriate functions and methods to get the intended result."
      ]
    },
    {
      "cell_type": "code",
      "execution_count": 1,
      "metadata": {
        "id": "0CRSFKFMStC8",
        "outputId": "c8add4eb-60b0-4f8d-ff84-468961d68114",
        "colab": {
          "base_uri": "https://localhost:8080/",
          "height": 35
        }
      },
      "outputs": [
        {
          "output_type": "execute_result",
          "data": {
            "text/plain": [
              "'hello, there'"
            ],
            "application/vnd.google.colaboratory.intrinsic+json": {
              "type": "string"
            }
          },
          "metadata": {},
          "execution_count": 1
        }
      ],
      "source": [
        "# Desired output: \"HELLO, THERE\"\n",
        "yell_hello = \"hello, there\"\n",
        "yell_hello"
      ]
    },
    {
      "cell_type": "code",
      "source": [
        "yell_hello.upper()"
      ],
      "metadata": {
        "id": "qHjECxsr8nWm",
        "outputId": "ff93937b-7ad0-42a3-b1c6-7fb7a7785c08",
        "colab": {
          "base_uri": "https://localhost:8080/",
          "height": 35
        }
      },
      "execution_count": 3,
      "outputs": [
        {
          "output_type": "execute_result",
          "data": {
            "text/plain": [
              "'HELLO, THERE'"
            ],
            "application/vnd.google.colaboratory.intrinsic+json": {
              "type": "string"
            }
          },
          "metadata": {},
          "execution_count": 3
        }
      ]
    },
    {
      "cell_type": "code",
      "execution_count": 4,
      "metadata": {
        "id": "ZbfPehynStC9",
        "outputId": "76ee6ed1-7de6-447c-eadc-5566a722df04",
        "colab": {
          "base_uri": "https://localhost:8080/",
          "height": 35
        }
      },
      "outputs": [
        {
          "output_type": "execute_result",
          "data": {
            "text/plain": [
              "'PSST, HEY'"
            ],
            "application/vnd.google.colaboratory.intrinsic+json": {
              "type": "string"
            }
          },
          "metadata": {},
          "execution_count": 4
        }
      ],
      "source": [
        "# Desired output: \"psst, hey\"\n",
        "whisper_hey = \"PSST, HEY\"\n",
        "whisper_hey"
      ]
    },
    {
      "cell_type": "code",
      "source": [
        "whisper_hey.lower()"
      ],
      "metadata": {
        "id": "bGfASx2K9fW1",
        "outputId": "18cbd108-5f8c-4636-f6f1-c4d458835c9c",
        "colab": {
          "base_uri": "https://localhost:8080/",
          "height": 35
        }
      },
      "execution_count": 5,
      "outputs": [
        {
          "output_type": "execute_result",
          "data": {
            "text/plain": [
              "'psst, hey'"
            ],
            "application/vnd.google.colaboratory.intrinsic+json": {
              "type": "string"
            }
          },
          "metadata": {},
          "execution_count": 5
        }
      ]
    },
    {
      "cell_type": "code",
      "execution_count": 6,
      "metadata": {
        "id": "JALXCFDXStC9",
        "outputId": "1feed062-53ea-4ee4-8ae5-ecc2d840bc45",
        "colab": {
          "base_uri": "https://localhost:8080/",
          "height": 35
        }
      },
      "outputs": [
        {
          "output_type": "execute_result",
          "data": {
            "text/plain": [
              "'LEARN. LOVE. CODE.'"
            ],
            "application/vnd.google.colaboratory.intrinsic+json": {
              "type": "string"
            }
          },
          "metadata": {},
          "execution_count": 6
        }
      ],
      "source": [
        "# Desired output: \"Learn. Love. Code\"\n",
        "flatiron_mantra = \"LEARN. LOVE. CODE.\"\n",
        "flatiron_mantra"
      ]
    },
    {
      "cell_type": "code",
      "source": [
        "flatiron_mantra.title()"
      ],
      "metadata": {
        "id": "Snl6kBt39mjs",
        "outputId": "8087dc4a-7744-48ac-cd09-a6b7d5f7032e",
        "colab": {
          "base_uri": "https://localhost:8080/",
          "height": 35
        }
      },
      "execution_count": 7,
      "outputs": [
        {
          "output_type": "execute_result",
          "data": {
            "text/plain": [
              "'Learn. Love. Code.'"
            ],
            "application/vnd.google.colaboratory.intrinsic+json": {
              "type": "string"
            }
          },
          "metadata": {},
          "execution_count": 7
        }
      ]
    },
    {
      "cell_type": "code",
      "execution_count": 8,
      "metadata": {
        "id": "SZn2nfvPStC9",
        "outputId": "db8c5899-b706-425e-996c-b87c7efd7b3e",
        "colab": {
          "base_uri": "https://localhost:8080/",
          "height": 35
        }
      },
      "outputs": [
        {
          "output_type": "execute_result",
          "data": {
            "text/plain": [
              "\"i'm a string\""
            ],
            "application/vnd.google.colaboratory.intrinsic+json": {
              "type": "string"
            }
          },
          "metadata": {},
          "execution_count": 8
        }
      ],
      "source": [
        "# Desired output: str\n",
        "type_string = \"i'm a string\"\n",
        "type_string"
      ]
    },
    {
      "cell_type": "code",
      "source": [
        "type(type_string)"
      ],
      "metadata": {
        "id": "kKePltUv9ua2",
        "outputId": "c724e4b3-e994-4cd8-a7ea-d0de2f7410c1",
        "colab": {
          "base_uri": "https://localhost:8080/"
        }
      },
      "execution_count": 9,
      "outputs": [
        {
          "output_type": "execute_result",
          "data": {
            "text/plain": [
              "str"
            ]
          },
          "metadata": {},
          "execution_count": 9
        }
      ]
    },
    {
      "cell_type": "code",
      "execution_count": 10,
      "metadata": {
        "id": "SaAhnk_tStC9",
        "outputId": "6cdea554-7020-4001-c2df-f5b005e4a042",
        "colab": {
          "base_uri": "https://localhost:8080/"
        }
      },
      "outputs": [
        {
          "output_type": "execute_result",
          "data": {
            "text/plain": [
              "[\"i'm\", 'a', 'list']"
            ]
          },
          "metadata": {},
          "execution_count": 10
        }
      ],
      "source": [
        "# Desired output: list\n",
        "type_list = [\"i'm\", \"a\", \"list\"]\n",
        "type_list"
      ]
    },
    {
      "cell_type": "code",
      "source": [
        "type(type_list)"
      ],
      "metadata": {
        "id": "CV7GGajC98SF",
        "outputId": "1d39a07b-5f63-4249-872c-72bd5dfa4b26",
        "colab": {
          "base_uri": "https://localhost:8080/"
        }
      },
      "execution_count": 11,
      "outputs": [
        {
          "output_type": "execute_result",
          "data": {
            "text/plain": [
              "list"
            ]
          },
          "metadata": {},
          "execution_count": 11
        }
      ]
    },
    {
      "cell_type": "code",
      "execution_count": 12,
      "metadata": {
        "id": "EcXEBHkXStC9",
        "outputId": "d935773c-9443-427d-b195-1f407d21beda",
        "colab": {
          "base_uri": "https://localhost:8080/"
        }
      },
      "outputs": [
        {
          "output_type": "execute_result",
          "data": {
            "text/plain": [
              "[\"i'm\", 'a', 'list']"
            ]
          },
          "metadata": {},
          "execution_count": 12
        }
      ],
      "source": [
        "# Desired output: 3\n",
        "length_of_list = [\"i'm\", \"a\", \"list\"]\n",
        "length_of_list"
      ]
    },
    {
      "cell_type": "code",
      "source": [
        "len(length_of_list)"
      ],
      "metadata": {
        "id": "SC8FTdAc-S20",
        "outputId": "39038329-72a4-4888-97e8-706f1af98d9b",
        "colab": {
          "base_uri": "https://localhost:8080/"
        }
      },
      "execution_count": 14,
      "outputs": [
        {
          "output_type": "execute_result",
          "data": {
            "text/plain": [
              "3"
            ]
          },
          "metadata": {},
          "execution_count": 14
        }
      ]
    },
    {
      "cell_type": "code",
      "execution_count": 15,
      "metadata": {
        "id": "wqo5yh5RStC-",
        "outputId": "ccc839df-a5d9-4720-f0af-d455df00a2c0",
        "colab": {
          "base_uri": "https://localhost:8080/"
        }
      },
      "outputs": [
        {
          "output_type": "execute_result",
          "data": {
            "text/plain": [
              "[\"i'm\", 'a', 'list']"
            ]
          },
          "metadata": {},
          "execution_count": 15
        }
      ],
      "source": [
        "# Desired output: \"list\"\n",
        "longest_word_in_list = [\"i'm\", \"a\", \"list\"]\n",
        "longest_word_in_list"
      ]
    },
    {
      "cell_type": "code",
      "source": [
        "max(longest_word_in_list)"
      ],
      "metadata": {
        "id": "cd2kDuF4-zOt",
        "outputId": "64a866d6-2278-4f20-b827-318cf210feaa",
        "colab": {
          "base_uri": "https://localhost:8080/",
          "height": 35
        }
      },
      "execution_count": 16,
      "outputs": [
        {
          "output_type": "execute_result",
          "data": {
            "text/plain": [
              "'list'"
            ],
            "application/vnd.google.colaboratory.intrinsic+json": {
              "type": "string"
            }
          },
          "metadata": {},
          "execution_count": 16
        }
      ]
    },
    {
      "cell_type": "code",
      "execution_count": 17,
      "metadata": {
        "id": "s4Z0FSt_StC-",
        "outputId": "a82d53e4-1111-423e-bc41-57b16eb3ab4d",
        "colab": {
          "base_uri": "https://localhost:8080/"
        }
      },
      "outputs": [
        {
          "output_type": "execute_result",
          "data": {
            "text/plain": [
              "[1, 3, 4, 78]"
            ]
          },
          "metadata": {},
          "execution_count": 17
        }
      ],
      "source": [
        "# Desired output: 1\n",
        "smallest_number = [1, 3, 4, 78]\n",
        "smallest_number"
      ]
    },
    {
      "cell_type": "code",
      "source": [
        "min(smallest_number)"
      ],
      "metadata": {
        "id": "ImTIQBV5_BDd",
        "outputId": "36eb22aa-0d94-4977-f3ab-40016dec419a",
        "colab": {
          "base_uri": "https://localhost:8080/"
        }
      },
      "execution_count": 18,
      "outputs": [
        {
          "output_type": "execute_result",
          "data": {
            "text/plain": [
              "1"
            ]
          },
          "metadata": {},
          "execution_count": 18
        }
      ]
    },
    {
      "cell_type": "code",
      "execution_count": 20,
      "metadata": {
        "id": "lLS8g5y1StC-",
        "outputId": "8540a8a9-3fde-40cf-98fc-d7266d95c4e6",
        "colab": {
          "base_uri": "https://localhost:8080/"
        }
      },
      "outputs": [
        {
          "output_type": "execute_result",
          "data": {
            "text/plain": [
              "[1, 2, 3, 5]"
            ]
          },
          "metadata": {},
          "execution_count": 20
        }
      ],
      "source": [
        "# Desired output: 11\n",
        "sum_of_numbers = [1, 2, 3, 5]\n",
        "sum_of_numbers"
      ]
    },
    {
      "cell_type": "code",
      "source": [
        "sum(sum_of_numbers)"
      ],
      "metadata": {
        "id": "sueb5h0e_wLd",
        "outputId": "3b2a8d04-a048-4b39-f25a-a5f793d3e48f",
        "colab": {
          "base_uri": "https://localhost:8080/"
        }
      },
      "execution_count": 21,
      "outputs": [
        {
          "output_type": "execute_result",
          "data": {
            "text/plain": [
              "11"
            ]
          },
          "metadata": {},
          "execution_count": 21
        }
      ]
    },
    {
      "cell_type": "markdown",
      "metadata": {
        "id": "3rDaNml4StC-"
      },
      "source": [
        "Uncomment the code in each cell as you start working on them. For example, when you begin working on the first cell, remove `#` at the start of each line.  \n",
        "\n",
        "> **Note:** The `cmd+?` keyboard shortcut comments or uncomments a given line of code!\n",
        "\n",
        "Replace `[COMPARISON]`, with the correct comparison operator to get the desired output, which you will find as a comment at the end of each line. See the example below.\n",
        "\n",
        "```python\n",
        "# boolean_compare = False [COMPARISON] True # True\n",
        "=> boolean_compare = False != True # True\n",
        "OR\n",
        "=> boolean_compare = False != True\n",
        "```\n",
        "\n",
        "Once uncommented, you can check the output to see if your comparisons match the answers provided in the ending comments."
      ]
    },
    {
      "cell_type": "markdown",
      "metadata": {
        "id": "_ughuviiStC-"
      },
      "source": [
        "> **Remember** the comparison operators are: `==`, `!=`, `<`, `>`, `<=`, `>=`"
      ]
    },
    {
      "cell_type": "code",
      "execution_count": null,
      "metadata": {
        "id": "A2jzgC8ZStC_"
      },
      "outputs": [],
      "source": [
        "#boolean_compare = True != True # False\n",
        "# boolean_compare2 = False [COMPARISON] True # False\n",
        "# print(boolean_compare, boolean_compare2)"
      ]
    },
    {
      "cell_type": "code",
      "source": [
        "boolean_compare = True != True\n",
        "boolean_compare2 = False == True\n",
        "print(boolean_compare, boolean_compare2)"
      ],
      "metadata": {
        "id": "uwbgGomnAzlu",
        "outputId": "e1158ab6-f69f-40c0-8083-8090f06cf356",
        "colab": {
          "base_uri": "https://localhost:8080/"
        }
      },
      "execution_count": 22,
      "outputs": [
        {
          "output_type": "stream",
          "name": "stdout",
          "text": [
            "False False\n"
          ]
        }
      ]
    },
    {
      "cell_type": "code",
      "execution_count": null,
      "metadata": {
        "id": "hwC08HwvStC_"
      },
      "outputs": [],
      "source": [
        "# number_compare = 10 [COMPARISON] 10 # True\n",
        "# number_compare2 = -20 [COMPARISON] 30 # True\n",
        "# number_compare3 = 4 [COMPARISON] 5 # False\n",
        "# print(number_compare, number_compare2, number_compare3)"
      ]
    },
    {
      "cell_type": "code",
      "source": [
        "number_compare = 10== 10\n",
        "number_compare2 = -20 != 30\n",
        "number_compare3 = 4 == 5 # False\n",
        "print(number_compare, number_compare2, number_compare3)"
      ],
      "metadata": {
        "id": "H9z-0Qy7BTLL",
        "outputId": "2a09e9d0-b0ca-481a-e185-c8fd17d88940",
        "colab": {
          "base_uri": "https://localhost:8080/"
        }
      },
      "execution_count": 23,
      "outputs": [
        {
          "output_type": "stream",
          "name": "stdout",
          "text": [
            "True True False\n"
          ]
        }
      ]
    },
    {
      "cell_type": "code",
      "execution_count": null,
      "metadata": {
        "id": "pdq69FTqStC_"
      },
      "outputs": [],
      "source": [
        "# string_compare = \"stacy\" [COMPARISON] \"STACY\" # True\n",
        "# string_compare2 = \"hey i love python!\" [COMPARISON] \"hi love python\" # False\n",
        "# string_compare3 = \"this string is bigger than the other\" [COMPARISON] \"that is true\" # True\n",
        "# print(string_compare, string_compare2, string_compare3)"
      ]
    },
    {
      "cell_type": "code",
      "source": [
        "string_compare = \"stacy\" != \"STACY\"\n",
        "string_compare2 = \"hey i love python!\" == \"hi love python\"\n",
        "string_compare3 = \"this string is bigger than the other\" > \"that is true\" # True\n",
        "print(string_compare, string_compare2, string_compare3)"
      ],
      "metadata": {
        "id": "hvcqN7YtByoz",
        "outputId": "aa8bdec1-178b-47b3-808d-0fdef8e8d79e",
        "colab": {
          "base_uri": "https://localhost:8080/"
        }
      },
      "execution_count": 24,
      "outputs": [
        {
          "output_type": "stream",
          "name": "stdout",
          "text": [
            "True False True\n"
          ]
        }
      ]
    },
    {
      "cell_type": "markdown",
      "metadata": {
        "id": "pHPDiaBSStC_"
      },
      "source": [
        "In the next section, do not use either `==` or `!=` operators"
      ]
    },
    {
      "cell_type": "code",
      "execution_count": null,
      "metadata": {
        "scrolled": true,
        "id": "XDAdJWPzStC_"
      },
      "outputs": [],
      "source": [
        "# list_compare = [0, 0, 0, 0] [COMPARISON] [0, 0, 0] # True\n",
        "# list_compare2 = [1, 0, 0] [COMPARISON] [0, 0, 0] # True\n",
        "# list_compare3 = [0, 0, 0] [COMPARISON] [0, 0, 3] # False\n",
        "# list_compare4 = [0, 0, 3, 0] [COMPARISON] [0, 0, 3] # True\n",
        "# list_compare5 = [0, 0, 4, 0] [COMPARISON] [0, 0, 3] # False\n",
        "# print(list_compare, list_compare2, list_compare3, list_compare4, list_compare5)"
      ]
    },
    {
      "cell_type": "code",
      "source": [
        "list_compare = [0, 0, 0, 0] > [0, 0, 0]\n",
        "list_compare2 = [1, 0, 0] > [0, 0, 0]\n",
        "list_compare3 = [0, 0, 0] >= [0, 0, 3]\n",
        "list_compare4 = [0, 0, 3, 0] >= [0, 0, 3]\n",
        "list_compare5 = [0, 0, 4, 0] < [0, 0, 3]\n",
        "print(list_compare, list_compare2, list_compare3, list_compare4, list_compare5)"
      ],
      "metadata": {
        "id": "SmoQl5Z5Cljt",
        "outputId": "ee257426-621a-4b1c-a6c6-1cdd37047b5c",
        "colab": {
          "base_uri": "https://localhost:8080/"
        }
      },
      "execution_count": 25,
      "outputs": [
        {
          "output_type": "stream",
          "name": "stdout",
          "text": [
            "True True False True False\n"
          ]
        }
      ]
    },
    {
      "cell_type": "markdown",
      "metadata": {
        "id": "H-a6A0GpStC_"
      },
      "source": [
        "### Practicing Identity and Logical Operators"
      ]
    },
    {
      "cell_type": "markdown",
      "metadata": {
        "id": "E-7yxMLYStC_"
      },
      "source": [
        "In this next section, use the identity and logical operators to get the desired output as you did in the examples above using the comparison operators."
      ]
    },
    {
      "cell_type": "markdown",
      "metadata": {
        "id": "Gf8Te1qJStC_"
      },
      "source": [
        "> **Remember** the **logical operators** are `and`, `or`, & `not`; and the **identity operators** are `is` & `is not`"
      ]
    },
    {
      "cell_type": "markdown",
      "metadata": {
        "id": "qqV-aOthStC_"
      },
      "source": [
        "Use logical operators for this section"
      ]
    },
    {
      "cell_type": "code",
      "execution_count": null,
      "metadata": {
        "id": "CTN4utLsStC_"
      },
      "outputs": [],
      "source": [
        "# logical_compare = 2 [LOGICAL] [] # []\n",
        "# logical_compare2 = [LOGICAL] [] # True\n",
        "# logical_compare3 = 0 [LOGICAL] [] # 0\n",
        "# logical_compare4 = True [LOGICAL] 2 # 2\n",
        "# logical_compare5 = 2 [LOGICAL] 3 # 2\n",
        "# logical_compare6 = [LOGICAL] True # False\n",
        "# logical_compare7 = False [LOGICAL] 2 # False\n",
        "# print(logical_compare, logical_compare2, logical_compare3, logical_compare4,\n",
        "#       logical_compare5, logical_compare6, logical_compare7)"
      ]
    },
    {
      "cell_type": "code",
      "source": [
        "logical_compare = 2 and []\n",
        "logical_compare2 = not []\n",
        "logical_compare3 = 0 and []\n",
        "logical_compare4 = True and 2\n",
        "logical_compare5 = 2 or 3\n",
        "logical_compare6 = not True\n",
        "logical_compare7 = False and 2\n",
        "print(logical_compare, logical_compare2, logical_compare3, logical_compare4,\n",
        "     logical_compare5, logical_compare6, logical_compare7)"
      ],
      "metadata": {
        "id": "VuVVHK0FExnW",
        "outputId": "a44617d9-cc28-4455-9021-6db9581c1581",
        "colab": {
          "base_uri": "https://localhost:8080/"
        }
      },
      "execution_count": 27,
      "outputs": [
        {
          "output_type": "stream",
          "name": "stdout",
          "text": [
            "[] True 0 2 2 False False\n"
          ]
        }
      ]
    },
    {
      "cell_type": "markdown",
      "metadata": {
        "id": "s_SyolnCStDA"
      },
      "source": [
        "Use identity operators for this section"
      ]
    },
    {
      "cell_type": "code",
      "execution_count": null,
      "metadata": {
        "id": "fKsvJvsDStDA"
      },
      "outputs": [],
      "source": [
        "# a = []\n",
        "# b = a\n",
        "# identity_compare = {} [IDENTITY] {} # False\n",
        "# identity_compare2 = a [IDENTITY] b # True\n",
        "# identity_compare3 = b [IDENTITY] [] # True\n",
        "# identity_compare4 = 9 [IDENTITY] 10 # True\n",
        "# identity_compare5 = \"Same\" [IDENTITY] \"Same\" # False\n",
        "# identity_compare6 = [1,3,4] [IDENTITY] [1,2,3] # False\n",
        "# print(identity_compare, identity_compare2, identity_compare3,\n",
        "#       identity_compare4, identity_compare5, identity_compare6)"
      ]
    },
    {
      "cell_type": "code",
      "source": [
        "a = []\n",
        "b = a\n",
        "identity_compare = {} is {}\n",
        "identity_compare2 = a is b\n",
        "identity_compare3 = b is not []\n",
        "identity_compare4 = 9 is not 10\n",
        "identity_compare5 = \"Same\" is not \"Same\"\n",
        "identity_compare6 = [1,3,4] is [1,2,3] # False\n",
        "print(identity_compare, identity_compare2, identity_compare3,\n",
        "       identity_compare4, identity_compare5, identity_compare6)"
      ],
      "metadata": {
        "id": "7Tt3U-3tGYWE",
        "outputId": "891f345b-8e31-4c11-9212-3fc4f9e848df",
        "colab": {
          "base_uri": "https://localhost:8080/"
        }
      },
      "execution_count": 29,
      "outputs": [
        {
          "output_type": "stream",
          "name": "stdout",
          "text": [
            "False True True True False False\n"
          ]
        },
        {
          "output_type": "stream",
          "name": "stderr",
          "text": [
            "<>:6: SyntaxWarning: \"is not\" with a literal. Did you mean \"!=\"?\n",
            "<>:7: SyntaxWarning: \"is not\" with a literal. Did you mean \"!=\"?\n",
            "<>:6: SyntaxWarning: \"is not\" with a literal. Did you mean \"!=\"?\n",
            "<>:7: SyntaxWarning: \"is not\" with a literal. Did you mean \"!=\"?\n",
            "<ipython-input-29-4a934b99a55e>:6: SyntaxWarning: \"is not\" with a literal. Did you mean \"!=\"?\n",
            "  identity_compare4 = 9 is not 10\n",
            "<ipython-input-29-4a934b99a55e>:7: SyntaxWarning: \"is not\" with a literal. Did you mean \"!=\"?\n",
            "  identity_compare5 = \"Same\" is not \"Same\"\n"
          ]
        }
      ]
    },
    {
      "cell_type": "markdown",
      "metadata": {
        "id": "LB0jL1kOStDA"
      },
      "source": [
        "## Summary\n",
        "Great work! After all that, there's nothing we can't compare. Well, I guess apples and oranges might still be off the table. We practiced using comparison, logical, and identity operators in Python to compare elements of the same and different datatypes and/or values. Going forward, there will be plenty of instances where we will need to compare elements. So, it is important to have a good understanding of how each of these operators works. Don't worry, as with all concepts in programming, the more we work with something the better we understand it."
      ]
    }
  ],
  "metadata": {
    "kernelspec": {
      "display_name": "Python (learn-env)",
      "language": "python",
      "name": "learn-env"
    },
    "language_info": {
      "codemirror_mode": {
        "name": "ipython",
        "version": 3
      },
      "file_extension": ".py",
      "mimetype": "text/x-python",
      "name": "python",
      "nbconvert_exporter": "python",
      "pygments_lexer": "ipython3",
      "version": "3.8.5"
    },
    "toc": {
      "base_numbering": 1,
      "nav_menu": {},
      "number_sections": true,
      "sideBar": true,
      "skip_h1_title": false,
      "title_cell": "Table of Contents",
      "title_sidebar": "Contents",
      "toc_cell": false,
      "toc_position": {},
      "toc_section_display": true,
      "toc_window_display": false
    },
    "colab": {
      "provenance": [],
      "include_colab_link": true
    }
  },
  "nbformat": 4,
  "nbformat_minor": 0
}