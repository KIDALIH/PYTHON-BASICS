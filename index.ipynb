{
  "cells": [
    {
      "cell_type": "markdown",
      "metadata": {
        "id": "view-in-github",
        "colab_type": "text"
      },
      "source": [
        "<a href=\"https://colab.research.google.com/github/KIDALIH/PYTHON-BASICS/blob/main/index.ipynb\" target=\"_parent\"><img src=\"https://colab.research.google.com/assets/colab-badge.svg\" alt=\"Open In Colab\"/></a>"
      ]
    },
    {
      "cell_type": "markdown",
      "metadata": {
        "id": "Pzzr6x5JRGOt"
      },
      "source": [
        "# Working with Dictionaries - Lab\n",
        "\n",
        "## Introduction\n",
        "Now that we know about dictionaries in Python, it is time to practice using them. In this lesson, you'll use your knowledge of dictionaries to retrieve and assign data about various cities.\n",
        "\n",
        "## Objectives\n",
        "\n",
        "You will be able to:\n",
        "\n",
        "* Assign values in a dictionary\n",
        "* Access keys and values in a dictionary\n",
        "\n",
        "## Instructions\n",
        "\n",
        "Here is a dictionary representing the city of Greenville, North Carolina.  The area is in kilometers squared."
      ]
    },
    {
      "cell_type": "code",
      "execution_count": 11,
      "metadata": {
        "id": "684EGdubRGOv"
      },
      "outputs": [],
      "source": [
        "greenville = {'Area': 68, 'City': 'Greenville', 'Country': 'USA', 'Population': 84554}"
      ]
    },
    {
      "cell_type": "markdown",
      "metadata": {
        "id": "dgfx_Rb3RGOw"
      },
      "source": [
        "> Remember to press shift + enter to run the code.\n",
        "\n",
        "Let's retrieve the population of the city and assign it to the variable `greenville_population`."
      ]
    },
    {
      "cell_type": "code",
      "execution_count": 12,
      "metadata": {
        "id": "OFhaIGq6RGOw",
        "outputId": "1b8f1580-efe9-4a83-829f-f31c6fa5ec82",
        "colab": {
          "base_uri": "https://localhost:8080/"
        }
      },
      "outputs": [
        {
          "output_type": "execute_result",
          "data": {
            "text/plain": [
              "84554"
            ]
          },
          "metadata": {},
          "execution_count": 12
        }
      ],
      "source": [
        "greenville_population = greenville['Population']\n",
        "greenville_population\n",
        "greenville_population # 84554"
      ]
    },
    {
      "cell_type": "markdown",
      "metadata": {
        "id": "88ZCv9xuRGOw"
      },
      "source": [
        "Now retrieve the area of Greenville and assign it to the variable `greenville_area`."
      ]
    },
    {
      "cell_type": "code",
      "execution_count": 13,
      "metadata": {
        "id": "zEiaJ4b2RGOw",
        "outputId": "8c7aadf1-fe22-4622-e984-ac10d549fffe",
        "colab": {
          "base_uri": "https://localhost:8080/"
        }
      },
      "outputs": [
        {
          "output_type": "execute_result",
          "data": {
            "text/plain": [
              "68"
            ]
          },
          "metadata": {},
          "execution_count": 13
        }
      ],
      "source": [
        "greenville_area = greenville['Area']\n",
        "greenville_area\n",
        "greenville_area # 68"
      ]
    },
    {
      "cell_type": "markdown",
      "metadata": {
        "id": "GQMsZKScRGOx"
      },
      "source": [
        "Now let's take a look at all of the keys in the `greenville` dictionary and coerce them into a list.  Assign this variable to the list `city_keys`."
      ]
    },
    {
      "cell_type": "code",
      "execution_count": 14,
      "metadata": {
        "id": "4hNIhrfDRGOx",
        "outputId": "081d3d4f-62cc-4705-f7bc-e9f0be4067f4",
        "colab": {
          "base_uri": "https://localhost:8080/"
        }
      },
      "outputs": [
        {
          "output_type": "execute_result",
          "data": {
            "text/plain": [
              "dict_keys(['Area', 'City', 'Country', 'Population'])"
            ]
          },
          "metadata": {},
          "execution_count": 14
        }
      ],
      "source": [
        "city_keys = greenville.keys()\n",
        "city_keys\n",
        "city_keys # ['Area', 'City', 'Country', 'Population']"
      ]
    },
    {
      "cell_type": "markdown",
      "metadata": {
        "id": "Zv2eMgD-RGOx"
      },
      "source": [
        "Alright, next let's get all of the values in our greenville dictionary and coerce it into a list.  Assign that list to the variable `city_values`."
      ]
    },
    {
      "cell_type": "code",
      "execution_count": 15,
      "metadata": {
        "id": "CNn2TClsRGOx",
        "outputId": "aad3a097-1538-4a8c-fa5e-3cdb3a0f371f",
        "colab": {
          "base_uri": "https://localhost:8080/"
        }
      },
      "outputs": [
        {
          "output_type": "execute_result",
          "data": {
            "text/plain": [
              "dict_values([68, 'Greenville', 'USA', 84554])"
            ]
          },
          "metadata": {},
          "execution_count": 15
        }
      ],
      "source": [
        "city_values = greenville.values()\n",
        "city_values\n",
        "city_values # [68, 'Greenville', 'USA', 84554]"
      ]
    },
    {
      "cell_type": "markdown",
      "metadata": {
        "id": "59iI_V3XRGOx"
      },
      "source": [
        "## Working with multiple cities\n",
        "\n",
        "We can retrieve our data from an excel or Google sheet like the one [shown here](https://docs.google.com/spreadsheets/d/1BTJMMFH9t4p5UmHj5kiC6PGfMN6yaaaZkocx0mDqTK0/edit#gid=0) named Travel Cities and Countries.\n",
        "\n",
        "![](https://curriculum-content.s3.amazonaws.com/data-science/images/countries-cities.png)\n",
        "\n",
        "Luckily for us, we already have the spreadsheet downloaded and located in the current folder.  You can find the file (`cities.xlsx`) in this lesson's GitHub repository. Next, we will use a library called **Pandas** to get this data from the excel file into Python code. We already have the code for reading an excel file into Python written for us below. Let's check it out.\n",
        "\n",
        "> **Note:** To import a library or module in Python, we do so by writing `import` followed by the name of the thing we want to import. We can optionally include an *alias* for our import, which is done by writing **as** after the name of the thing we are importing followed by the name we would like to use for our *alias*. **Do not worry** about aliases right now. Just know that the *convention* for importing the Pandas library is to import it and alias it as `pd` like we see below.   \n",
        "We'll talk about packages and Pandas specifically in much more detail soon enough!"
      ]
    },
    {
      "cell_type": "code",
      "execution_count": 16,
      "metadata": {
        "id": "2YsZkp-NRGOx"
      },
      "outputs": [],
      "source": [
        "import pandas as pd\n",
        "file_name = './cities.xlsx'\n",
        "travel_df = pd.read_excel(file_name)\n",
        "cities = travel_df.to_dict('records')"
      ]
    },
    {
      "cell_type": "markdown",
      "metadata": {
        "id": "8nQq_hntRGOx"
      },
      "source": [
        "> Remember to press shift + enter.\n",
        "\n",
        "Great! We just used Pandas to read the data from our excel file and turn each row of data into a dictionary. Again, don't worry about exactly how Pandas is doing this, but know that Pandas is a great tool when trying to accomplish a task such as turning data from an excel file into data we can use in Python.\n",
        "\n",
        "Run the cell below to see what our data looks like now."
      ]
    },
    {
      "cell_type": "code",
      "execution_count": 30,
      "metadata": {
        "id": "MbSRcRXPRGOx",
        "outputId": "02b46c76-5079-41d7-a628-807750587cb5",
        "colab": {
          "base_uri": "https://localhost:8080/"
        }
      },
      "outputs": [
        {
          "output_type": "execute_result",
          "data": {
            "text/plain": [
              "[{'City': 'Solta', 'Country': 'Croatia', 'Population': 1700, 'Area': 59},\n",
              " {'City': 'Greenville', 'Country': 'USA', 'Population': 84554, 'Area': 68},\n",
              " {'City': 'Buenos Aires',\n",
              "  'Country': 'Argentina',\n",
              "  'Population': 13591863,\n",
              "  'Area': 4758},\n",
              " {'City': 'Los Cabos',\n",
              "  'Country': 'Mexico',\n",
              "  'Population': 287651,\n",
              "  'Area': 3750},\n",
              " {'City': 'Walla Walla Valley',\n",
              "  'Country': 'USA',\n",
              "  'Population': 32237,\n",
              "  'Area': 33},\n",
              " {'City': 'Marakesh', 'Country': 'Morocco', 'Population': 928850, 'Area': 200},\n",
              " {'City': 'Albuquerque',\n",
              "  'Country': 'New Mexico',\n",
              "  'Population': 559277,\n",
              "  'Area': 491},\n",
              " {'City': 'Archipelago Sea',\n",
              "  'Country': 'Finland',\n",
              "  'Population': 60000,\n",
              "  'Area': 8300},\n",
              " {'City': 'Iguazu Falls',\n",
              "  'Country': 'Argentina',\n",
              "  'Population': 0,\n",
              "  'Area': 672},\n",
              " {'City': 'Salina Island', 'Country': 'Italy', 'Population': 4000, 'Area': 27},\n",
              " {'City': 'Toronto', 'Country': 'Canada', 'Population': 630, 'Area': 2731571},\n",
              " {'City': 'PyeongChang',\n",
              "  'Country': 'South Korea',\n",
              "  'Population': 2581000,\n",
              "  'Area': 3194}]"
            ]
          },
          "metadata": {},
          "execution_count": 30
        }
      ],
      "source": [
        "cities"
      ]
    },
    {
      "cell_type": "markdown",
      "metadata": {
        "id": "HacOJMfZRGOy"
      },
      "source": [
        "Now we will work with reading and manipulating this list of dictionaries, `cities`.\n",
        "\n",
        "### Working with our list of cities\n",
        "\n",
        "First, access the third to last element and set it equal to the variable `salina`."
      ]
    },
    {
      "cell_type": "code",
      "execution_count": 19,
      "metadata": {
        "id": "mGciFxn7RGOy",
        "outputId": "f47902f6-c50c-48d4-f6fc-65c33f999dc5",
        "colab": {
          "base_uri": "https://localhost:8080/"
        }
      },
      "outputs": [
        {
          "output_type": "execute_result",
          "data": {
            "text/plain": [
              "{'City': 'Salina Island', 'Country': 'Italy', 'Population': 4000, 'Area': 27}"
            ]
          },
          "metadata": {},
          "execution_count": 19
        }
      ],
      "source": [
        "salina = cities[-3]\n",
        "salina\n",
        "salina\n",
        "# {'Area': 27, 'City': 'Salina Island', 'Country': 'Italy', 'Population': 4000}"
      ]
    },
    {
      "cell_type": "markdown",
      "metadata": {
        "id": "-cAbW8LvRGOy"
      },
      "source": [
        "Now access the fourth city in the list, and set its population equal to a variable called `los_cabos_pop`."
      ]
    },
    {
      "cell_type": "code",
      "execution_count": 20,
      "metadata": {
        "id": "uO0mWD1GRGOy",
        "outputId": "02a2db72-6681-456c-c04f-3c6592d05c54",
        "colab": {
          "base_uri": "https://localhost:8080/"
        }
      },
      "outputs": [
        {
          "output_type": "execute_result",
          "data": {
            "text/plain": [
              "287651"
            ]
          },
          "metadata": {},
          "execution_count": 20
        }
      ],
      "source": [
        "los_cabos_pop = cities[3]['Population']\n",
        "los_cabos_pop\n",
        "los_cabos_pop # 287651"
      ]
    },
    {
      "cell_type": "code",
      "source": [
        "cities[3]"
      ],
      "metadata": {
        "id": "86OFF5uW6o8Y",
        "outputId": "e52b295c-73c2-4281-84bc-d3f01ae7a7ca",
        "colab": {
          "base_uri": "https://localhost:8080/"
        }
      },
      "execution_count": 21,
      "outputs": [
        {
          "output_type": "execute_result",
          "data": {
            "text/plain": [
              "{'City': 'Los Cabos', 'Country': 'Mexico', 'Population': 287651, 'Area': 3750}"
            ]
          },
          "metadata": {},
          "execution_count": 21
        }
      ]
    },
    {
      "cell_type": "code",
      "source": [
        "cities[3]['Population']"
      ],
      "metadata": {
        "id": "TqG-0IpJ6vfp",
        "outputId": "8a775003-37ff-48db-c162-af3382aa9f71",
        "colab": {
          "base_uri": "https://localhost:8080/"
        }
      },
      "execution_count": 22,
      "outputs": [
        {
          "output_type": "execute_result",
          "data": {
            "text/plain": [
              "287651"
            ]
          },
          "metadata": {},
          "execution_count": 22
        }
      ]
    },
    {
      "cell_type": "markdown",
      "source": [],
      "metadata": {
        "id": "mAzG_S4Z9KB4"
      }
    },
    {
      "cell_type": "code",
      "source": [
        "los_cabos_pop = cities[3]['Population']\n",
        "los_cabos_pop"
      ],
      "metadata": {
        "id": "hza_ndGK63bc",
        "outputId": "e029d92c-e167-408b-be43-a3c78ea0161b",
        "colab": {
          "base_uri": "https://localhost:8080/"
        }
      },
      "execution_count": 24,
      "outputs": [
        {
          "output_type": "execute_result",
          "data": {
            "text/plain": [
              "287651"
            ]
          },
          "metadata": {},
          "execution_count": 24
        }
      ]
    },
    {
      "cell_type": "markdown",
      "metadata": {
        "id": "6-jD5wUURGOy"
      },
      "source": [
        "Now calculate the number of cities in the list and assign the number to the variable `city_count`."
      ]
    },
    {
      "cell_type": "code",
      "execution_count": 27,
      "metadata": {
        "scrolled": true,
        "id": "y3eAO7f2RGOy",
        "outputId": "590daea3-4622-4d7b-b79d-241b0312ada6",
        "colab": {
          "base_uri": "https://localhost:8080/"
        }
      },
      "outputs": [
        {
          "output_type": "execute_result",
          "data": {
            "text/plain": [
              "12"
            ]
          },
          "metadata": {},
          "execution_count": 27
        }
      ],
      "source": [
        "city_count = len(cities)\n",
        "city_count\n",
        "city_count # 12"
      ]
    },
    {
      "cell_type": "markdown",
      "metadata": {
        "id": "jLqAQxlQRGOz"
      },
      "source": [
        "Finally, change the spelling of the South Korean city, Pyeongchang, to the string `'PyeongChang'`, its alternative spelling."
      ]
    },
    {
      "cell_type": "code",
      "execution_count": 28,
      "metadata": {
        "id": "B7PvdkrhRGOz",
        "outputId": "85f00373-c3bb-4d70-958e-90c40d8825c3",
        "colab": {
          "base_uri": "https://localhost:8080/",
          "height": 35
        }
      },
      "outputs": [
        {
          "output_type": "execute_result",
          "data": {
            "text/plain": [
              "'PyeongChang'"
            ],
            "application/vnd.google.colaboratory.intrinsic+json": {
              "type": "string"
            }
          },
          "metadata": {},
          "execution_count": 28
        }
      ],
      "source": [
        "cities[11]['City'] = 'PyeongChang'\n",
        "cities[11]\n",
        "cities[11]['City'] # 'PyeongChang'"
      ]
    },
    {
      "cell_type": "markdown",
      "metadata": {
        "id": "HWcmj4vARGOz"
      },
      "source": [
        "Now let's work on retrieving a collection of information about a dictionary.  Use the appropriate dictionary method to return a list of values in the dictionary regarding Pyeongchang.  Assign the list to the variable `pyeongchang_values`."
      ]
    },
    {
      "cell_type": "code",
      "execution_count": 35,
      "metadata": {
        "id": "dNf-iFHHRGOz",
        "outputId": "4fc535f8-1506-4595-db4d-5f269f8533b5",
        "colab": {
          "base_uri": "https://localhost:8080/"
        }
      },
      "outputs": [
        {
          "output_type": "execute_result",
          "data": {
            "text/plain": [
              "dict_values"
            ]
          },
          "metadata": {},
          "execution_count": 35
        }
      ],
      "source": [
        "PyeongChang_values = cities[11].values()\n",
        "PyeongChang_values\n",
        "\n",
        "pyeongchang_values # ['PyeongChang', 'South Korea', 2581000, 3194]\n",
        "type(pyeongchang_values) # list"
      ]
    },
    {
      "cell_type": "code",
      "source": [
        "cities"
      ],
      "metadata": {
        "id": "WudSYsF79aDo",
        "outputId": "90335110-e4bc-4d6a-e44f-4ea965cfb458",
        "colab": {
          "base_uri": "https://localhost:8080/"
        }
      },
      "execution_count": 36,
      "outputs": [
        {
          "output_type": "execute_result",
          "data": {
            "text/plain": [
              "[{'City': 'Solta', 'Country': 'Croatia', 'Population': 1700, 'Area': 59},\n",
              " {'City': 'Greenville', 'Country': 'USA', 'Population': 84554, 'Area': 68},\n",
              " {'City': 'Buenos Aires',\n",
              "  'Country': 'Argentina',\n",
              "  'Population': 13591863,\n",
              "  'Area': 4758},\n",
              " {'City': 'Los Cabos',\n",
              "  'Country': 'Mexico',\n",
              "  'Population': 287651,\n",
              "  'Area': 3750},\n",
              " {'City': 'Walla Walla Valley',\n",
              "  'Country': 'USA',\n",
              "  'Population': 32237,\n",
              "  'Area': 33},\n",
              " {'City': 'Marakesh', 'Country': 'Morocco', 'Population': 928850, 'Area': 200},\n",
              " {'City': 'Albuquerque',\n",
              "  'Country': 'New Mexico',\n",
              "  'Population': 559277,\n",
              "  'Area': 491},\n",
              " {'City': 'Archipelago Sea',\n",
              "  'Country': 'Finland',\n",
              "  'Population': 60000,\n",
              "  'Area': 8300},\n",
              " {'City': 'Iguazu Falls',\n",
              "  'Country': 'Argentina',\n",
              "  'Population': 0,\n",
              "  'Area': 672},\n",
              " {'City': 'Salina Island', 'Country': 'Italy', 'Population': 4000, 'Area': 27},\n",
              " {'City': 'Toronto', 'Country': 'Canada', 'Population': 630, 'Area': 2731571},\n",
              " {'City': 'PyeongChang',\n",
              "  'Country': 'South Korea',\n",
              "  'Population': 2581000,\n",
              "  'Area': 3194}]"
            ]
          },
          "metadata": {},
          "execution_count": 36
        }
      ]
    },
    {
      "cell_type": "code",
      "source": [
        "cities[11]"
      ],
      "metadata": {
        "id": "2e0zj7p-9jII",
        "outputId": "f183a132-c937-4965-fd7e-3c3579d367c3",
        "colab": {
          "base_uri": "https://localhost:8080/"
        }
      },
      "execution_count": 37,
      "outputs": [
        {
          "output_type": "execute_result",
          "data": {
            "text/plain": [
              "{'City': 'PyeongChang',\n",
              " 'Country': 'South Korea',\n",
              " 'Population': 2581000,\n",
              " 'Area': 3194}"
            ]
          },
          "metadata": {},
          "execution_count": 37
        }
      ]
    },
    {
      "cell_type": "markdown",
      "metadata": {
        "id": "mejsGl62RGOz"
      },
      "source": [
        "And now set `pyeongchang_keys` equal to a list of keys in the dictionary regarding Pyeongchang."
      ]
    },
    {
      "cell_type": "code",
      "source": [
        "cities[11].values()"
      ],
      "metadata": {
        "id": "b1A0fUBY9qz5",
        "outputId": "6f4fbbc6-8d32-4e38-ca73-49f8718ffdb1",
        "colab": {
          "base_uri": "https://localhost:8080/"
        }
      },
      "execution_count": 38,
      "outputs": [
        {
          "output_type": "execute_result",
          "data": {
            "text/plain": [
              "dict_values(['PyeongChang', 'South Korea', 2581000, 3194])"
            ]
          },
          "metadata": {},
          "execution_count": 38
        }
      ]
    },
    {
      "cell_type": "code",
      "source": [
        "PyeongChang_values = cities[11].values()\n",
        "PyeongChang_values"
      ],
      "metadata": {
        "id": "1RUFSNRt91kB",
        "outputId": "0724e4f1-fafa-424a-8dcb-65c4a318c286",
        "colab": {
          "base_uri": "https://localhost:8080/"
        }
      },
      "execution_count": 39,
      "outputs": [
        {
          "output_type": "execute_result",
          "data": {
            "text/plain": [
              "dict_values(['PyeongChang', 'South Korea', 2581000, 3194])"
            ]
          },
          "metadata": {},
          "execution_count": 39
        }
      ]
    },
    {
      "cell_type": "code",
      "source": [
        "cities[11].keys()"
      ],
      "metadata": {
        "id": "mCMMSMqE-Elx",
        "outputId": "c8bcd819-056b-4d1f-fcdf-7aaf3fa5f009",
        "colab": {
          "base_uri": "https://localhost:8080/"
        }
      },
      "execution_count": 41,
      "outputs": [
        {
          "output_type": "execute_result",
          "data": {
            "text/plain": [
              "dict_keys(['City', 'Country', 'Population', 'Area'])"
            ]
          },
          "metadata": {},
          "execution_count": 41
        }
      ]
    },
    {
      "cell_type": "code",
      "execution_count": 43,
      "metadata": {
        "id": "zriocu3kRGOz",
        "outputId": "42e8a214-31b5-46ae-9122-b24589a7997d",
        "colab": {
          "base_uri": "https://localhost:8080/"
        }
      },
      "outputs": [
        {
          "output_type": "execute_result",
          "data": {
            "text/plain": [
              "dict_keys"
            ]
          },
          "metadata": {},
          "execution_count": 43
        }
      ],
      "source": [
        "pyeongchang_keys = cities[11].keys()\n",
        "pyeongchang_keys\n",
        "\n",
        "pyeongchang_keys # ['City', 'Country', 'Population', 'Area']\n",
        "type(pyeongchang_keys) # list"
      ]
    },
    {
      "cell_type": "code",
      "source": [
        "pyeongchang_keys = cities[11].keys()\n",
        "pyeongchang_keys"
      ],
      "metadata": {
        "id": "P2JixyMw-XZR",
        "outputId": "f8894571-586c-4ed2-bc4e-7b42c3dc7fd9",
        "colab": {
          "base_uri": "https://localhost:8080/"
        }
      },
      "execution_count": 44,
      "outputs": [
        {
          "output_type": "execute_result",
          "data": {
            "text/plain": [
              "dict_keys(['City', 'Country', 'Population', 'Area'])"
            ]
          },
          "metadata": {},
          "execution_count": 44
        }
      ]
    },
    {
      "cell_type": "markdown",
      "metadata": {
        "id": "zvQpx1m8RGOz"
      },
      "source": [
        "## Summary\n",
        "\n",
        "In this section, we saw how to assign, retrieve, and re-assign data in a dictionary.  We saw how we can retrieve a collection of information from a dictionary, like a list of its keys and values, and we saw how we can work with a list of dictionaries."
      ]
    }
  ],
  "metadata": {
    "kernelspec": {
      "display_name": "Python (learn-env)",
      "language": "python",
      "name": "learn-env"
    },
    "language_info": {
      "codemirror_mode": {
        "name": "ipython",
        "version": 3
      },
      "file_extension": ".py",
      "mimetype": "text/x-python",
      "name": "python",
      "nbconvert_exporter": "python",
      "pygments_lexer": "ipython3",
      "version": "3.8.5"
    },
    "colab": {
      "provenance": [],
      "include_colab_link": true
    }
  },
  "nbformat": 4,
  "nbformat_minor": 0
}